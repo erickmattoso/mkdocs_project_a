{
 "cells": [
  {
   "cell_type": "code",
   "execution_count": 1,
   "metadata": {},
   "outputs": [],
   "source": [
    "import os\n",
    "import json\n",
    "import pickle\n",
    "import pprint\n",
    "import pandas as pd\n",
    "import numpy as np\n",
    "from sklearn.utils import resample\n",
    "from sklearn.linear_model import LogisticRegression\n",
    "from sklearn import tree\n",
    "from sklearn.tree import DecisionTreeClassifier\n",
    "from sklearn.metrics import confusion_matrix\n",
    "from sklearn.metrics import classification_report\n",
    "from sklearn.metrics import roc_curve\n",
    "from sklearn.metrics import roc_auc_score\n",
    "from sklearn.metrics import precision_recall_curve\n",
    "from sklearn.metrics import precision_recall_fscore_support as p_r_f\n",
    "from sklearn.metrics import auc\n",
    "from sklearn.metrics import average_precision_score\n",
    "from sklearn.externals import joblib\n",
    "import matplotlib.pyplot as plt\n",
    "import seaborn as sns"
   ]
  },
  {
   "cell_type": "markdown",
   "metadata": {},
   "source": [
    "# Read and Process Data"
   ]
  },
  {
   "cell_type": "code",
   "execution_count": 2,
   "metadata": {
    "code_folding": []
   },
   "outputs": [
    {
     "data": {
      "text/html": [
       "<div>\n",
       "<style scoped>\n",
       "    .dataframe tbody tr th:only-of-type {\n",
       "        vertical-align: middle;\n",
       "    }\n",
       "\n",
       "    .dataframe tbody tr th {\n",
       "        vertical-align: top;\n",
       "    }\n",
       "\n",
       "    .dataframe thead th {\n",
       "        text-align: right;\n",
       "    }\n",
       "</style>\n",
       "<table border=\"1\" class=\"dataframe\">\n",
       "  <thead>\n",
       "    <tr style=\"text-align: right;\">\n",
       "      <th></th>\n",
       "      <th>age</th>\n",
       "      <th>workclass</th>\n",
       "      <th>education-num</th>\n",
       "      <th>status</th>\n",
       "      <th>occupation</th>\n",
       "      <th>relationship</th>\n",
       "      <th>race</th>\n",
       "      <th>sex</th>\n",
       "      <th>hours-per-week</th>\n",
       "      <th>income-class</th>\n",
       "      <th>capital-gain-zero</th>\n",
       "      <th>capital-loss-zero</th>\n",
       "      <th>is_USA</th>\n",
       "      <th>no_pay_or_work</th>\n",
       "      <th>bachelor_above</th>\n",
       "    </tr>\n",
       "  </thead>\n",
       "  <tbody>\n",
       "    <tr>\n",
       "      <th>0</th>\n",
       "      <td>3.663562</td>\n",
       "      <td>7.0</td>\n",
       "      <td>13.0</td>\n",
       "      <td>4.0</td>\n",
       "      <td>1.0</td>\n",
       "      <td>1.0</td>\n",
       "      <td>4.0</td>\n",
       "      <td>1.0</td>\n",
       "      <td>40.0</td>\n",
       "      <td>0</td>\n",
       "      <td>0.0</td>\n",
       "      <td>1.0</td>\n",
       "      <td>1.0</td>\n",
       "      <td>0.0</td>\n",
       "      <td>1.0</td>\n",
       "    </tr>\n",
       "    <tr>\n",
       "      <th>1</th>\n",
       "      <td>3.912023</td>\n",
       "      <td>6.0</td>\n",
       "      <td>13.0</td>\n",
       "      <td>2.0</td>\n",
       "      <td>4.0</td>\n",
       "      <td>0.0</td>\n",
       "      <td>4.0</td>\n",
       "      <td>1.0</td>\n",
       "      <td>13.0</td>\n",
       "      <td>0</td>\n",
       "      <td>1.0</td>\n",
       "      <td>1.0</td>\n",
       "      <td>1.0</td>\n",
       "      <td>0.0</td>\n",
       "      <td>1.0</td>\n",
       "    </tr>\n",
       "    <tr>\n",
       "      <th>2</th>\n",
       "      <td>3.637586</td>\n",
       "      <td>4.0</td>\n",
       "      <td>9.0</td>\n",
       "      <td>0.0</td>\n",
       "      <td>6.0</td>\n",
       "      <td>1.0</td>\n",
       "      <td>4.0</td>\n",
       "      <td>1.0</td>\n",
       "      <td>40.0</td>\n",
       "      <td>0</td>\n",
       "      <td>1.0</td>\n",
       "      <td>1.0</td>\n",
       "      <td>1.0</td>\n",
       "      <td>0.0</td>\n",
       "      <td>0.0</td>\n",
       "    </tr>\n",
       "    <tr>\n",
       "      <th>3</th>\n",
       "      <td>3.970292</td>\n",
       "      <td>4.0</td>\n",
       "      <td>7.0</td>\n",
       "      <td>2.0</td>\n",
       "      <td>6.0</td>\n",
       "      <td>0.0</td>\n",
       "      <td>2.0</td>\n",
       "      <td>1.0</td>\n",
       "      <td>40.0</td>\n",
       "      <td>0</td>\n",
       "      <td>1.0</td>\n",
       "      <td>1.0</td>\n",
       "      <td>1.0</td>\n",
       "      <td>0.0</td>\n",
       "      <td>0.0</td>\n",
       "    </tr>\n",
       "    <tr>\n",
       "      <th>4</th>\n",
       "      <td>3.332205</td>\n",
       "      <td>4.0</td>\n",
       "      <td>13.0</td>\n",
       "      <td>2.0</td>\n",
       "      <td>10.0</td>\n",
       "      <td>5.0</td>\n",
       "      <td>2.0</td>\n",
       "      <td>0.0</td>\n",
       "      <td>40.0</td>\n",
       "      <td>0</td>\n",
       "      <td>1.0</td>\n",
       "      <td>1.0</td>\n",
       "      <td>0.0</td>\n",
       "      <td>0.0</td>\n",
       "      <td>1.0</td>\n",
       "    </tr>\n",
       "  </tbody>\n",
       "</table>\n",
       "</div>"
      ],
      "text/plain": [
       "        age  workclass  education-num  status  occupation  relationship  race  \\\n",
       "0  3.663562        7.0           13.0     4.0         1.0           1.0   4.0   \n",
       "1  3.912023        6.0           13.0     2.0         4.0           0.0   4.0   \n",
       "2  3.637586        4.0            9.0     0.0         6.0           1.0   4.0   \n",
       "3  3.970292        4.0            7.0     2.0         6.0           0.0   2.0   \n",
       "4  3.332205        4.0           13.0     2.0        10.0           5.0   2.0   \n",
       "\n",
       "   sex  hours-per-week  income-class  capital-gain-zero  capital-loss-zero  \\\n",
       "0  1.0            40.0             0                0.0                1.0   \n",
       "1  1.0            13.0             0                1.0                1.0   \n",
       "2  1.0            40.0             0                1.0                1.0   \n",
       "3  1.0            40.0             0                1.0                1.0   \n",
       "4  0.0            40.0             0                1.0                1.0   \n",
       "\n",
       "   is_USA  no_pay_or_work  bachelor_above  \n",
       "0     1.0             0.0             1.0  \n",
       "1     1.0             0.0             1.0  \n",
       "2     1.0             0.0             0.0  \n",
       "3     1.0             0.0             0.0  \n",
       "4     0.0             0.0             1.0  "
      ]
     },
     "execution_count": 2,
     "metadata": {},
     "output_type": "execute_result"
    }
   ],
   "source": [
    "# read ordinal encoded data\n",
    "df = pd.read_csv('adult_oe_im.csv')\n",
    "# or read one hot encoded data\n",
    "#df = pd.read_csv('adult_ohe_im.csv')\n",
    "df.head()"
   ]
  },
  {
   "cell_type": "code",
   "execution_count": 3,
   "metadata": {
    "code_folding": []
   },
   "outputs": [
    {
     "data": {
      "text/plain": [
       "<matplotlib.axes._subplots.AxesSubplot at 0x7fbc58174f28>"
      ]
     },
     "execution_count": 3,
     "metadata": {},
     "output_type": "execute_result"
    },
    {
     "data": {
      "image/png": "[encoded data removed]",
      "text/plain": [
       "<Figure size 432x288 with 1 Axes>"
      ]
     },
     "metadata": {
      "needs_background": "light"
     },
     "output_type": "display_data"
    }
   ],
   "source": [
    "# imbalanced target\n",
    "df['income-class'].value_counts().plot(kind='bar')"
   ]
  },
  {
   "cell_type": "code",
   "execution_count": 4,
   "metadata": {},
   "outputs": [],
   "source": [
    "# ONLY balance training set, don't change the distribution of test set\n",
    "train = df.sample(frac=0.7, replace=False, random_state=123)\n",
    "test = df.drop(train.index)"
   ]
  },
  {
   "cell_type": "code",
   "execution_count": 5,
   "metadata": {},
   "outputs": [
    {
     "name": "stdout",
     "output_type": "stream",
     "text": [
      "(22793, 15)\n",
      "(9768, 15)\n"
     ]
    }
   ],
   "source": [
    "print(train.shape)\n",
    "print(test.shape)"
   ]
  },
  {
   "cell_type": "code",
   "execution_count": 6,
   "metadata": {},
   "outputs": [],
   "source": [
    "high_income_train = train[train['income-class']==1]\n",
    "low_income_train = train[train['income-class']==0]"
   ]
  },
  {
   "cell_type": "code",
   "execution_count": 7,
   "metadata": {},
   "outputs": [
    {
     "name": "stdout",
     "output_type": "stream",
     "text": [
      "(5503, 15)\n",
      "(17290, 15)\n"
     ]
    }
   ],
   "source": [
    "print(high_income_train.shape)\n",
    "print(low_income_train.shape)"
   ]
  },
  {
   "cell_type": "code",
   "execution_count": 8,
   "metadata": {},
   "outputs": [
    {
     "data": {
      "text/plain": [
       "(17290, 15)"
      ]
     },
     "execution_count": 8,
     "metadata": {},
     "output_type": "execute_result"
    }
   ],
   "source": [
    "high_income_upsampled_train = resample(high_income_train, replace=True, \n",
    "                                   n_samples=low_income_train.shape[0], random_state=123)\n",
    "high_income_upsampled_train.shape"
   ]
  },
  {
   "cell_type": "code",
   "execution_count": 9,
   "metadata": {},
   "outputs": [
    {
     "data": {
      "text/html": [
       "<div>\n",
       "<style scoped>\n",
       "    .dataframe tbody tr th:only-of-type {\n",
       "        vertical-align: middle;\n",
       "    }\n",
       "\n",
       "    .dataframe tbody tr th {\n",
       "        vertical-align: top;\n",
       "    }\n",
       "\n",
       "    .dataframe thead th {\n",
       "        text-align: right;\n",
       "    }\n",
       "</style>\n",
       "<table border=\"1\" class=\"dataframe\">\n",
       "  <thead>\n",
       "    <tr style=\"text-align: right;\">\n",
       "      <th></th>\n",
       "      <th>age</th>\n",
       "      <th>workclass</th>\n",
       "      <th>education-num</th>\n",
       "      <th>status</th>\n",
       "      <th>occupation</th>\n",
       "      <th>relationship</th>\n",
       "      <th>race</th>\n",
       "      <th>sex</th>\n",
       "      <th>hours-per-week</th>\n",
       "      <th>income-class</th>\n",
       "      <th>capital-gain-zero</th>\n",
       "      <th>capital-loss-zero</th>\n",
       "      <th>is_USA</th>\n",
       "      <th>no_pay_or_work</th>\n",
       "      <th>bachelor_above</th>\n",
       "    </tr>\n",
       "  </thead>\n",
       "  <tbody>\n",
       "    <tr>\n",
       "      <th>8268</th>\n",
       "      <td>3.806662</td>\n",
       "      <td>6.0</td>\n",
       "      <td>13.0</td>\n",
       "      <td>2.0</td>\n",
       "      <td>4.0</td>\n",
       "      <td>0.0</td>\n",
       "      <td>4.0</td>\n",
       "      <td>1.0</td>\n",
       "      <td>50.0</td>\n",
       "      <td>1</td>\n",
       "      <td>1.0</td>\n",
       "      <td>1.0</td>\n",
       "      <td>1.0</td>\n",
       "      <td>0.0</td>\n",
       "      <td>1.0</td>\n",
       "    </tr>\n",
       "    <tr>\n",
       "      <th>28969</th>\n",
       "      <td>4.094345</td>\n",
       "      <td>4.0</td>\n",
       "      <td>10.0</td>\n",
       "      <td>2.0</td>\n",
       "      <td>3.0</td>\n",
       "      <td>0.0</td>\n",
       "      <td>3.0</td>\n",
       "      <td>1.0</td>\n",
       "      <td>32.0</td>\n",
       "      <td>1</td>\n",
       "      <td>1.0</td>\n",
       "      <td>1.0</td>\n",
       "      <td>1.0</td>\n",
       "      <td>0.0</td>\n",
       "      <td>0.0</td>\n",
       "    </tr>\n",
       "    <tr>\n",
       "      <th>30525</th>\n",
       "      <td>3.891820</td>\n",
       "      <td>5.0</td>\n",
       "      <td>10.0</td>\n",
       "      <td>2.0</td>\n",
       "      <td>10.0</td>\n",
       "      <td>5.0</td>\n",
       "      <td>4.0</td>\n",
       "      <td>0.0</td>\n",
       "      <td>65.0</td>\n",
       "      <td>1</td>\n",
       "      <td>1.0</td>\n",
       "      <td>1.0</td>\n",
       "      <td>1.0</td>\n",
       "      <td>0.0</td>\n",
       "      <td>0.0</td>\n",
       "    </tr>\n",
       "    <tr>\n",
       "      <th>5792</th>\n",
       "      <td>3.806662</td>\n",
       "      <td>5.0</td>\n",
       "      <td>9.0</td>\n",
       "      <td>2.0</td>\n",
       "      <td>4.0</td>\n",
       "      <td>0.0</td>\n",
       "      <td>4.0</td>\n",
       "      <td>1.0</td>\n",
       "      <td>55.0</td>\n",
       "      <td>1</td>\n",
       "      <td>0.0</td>\n",
       "      <td>1.0</td>\n",
       "      <td>1.0</td>\n",
       "      <td>0.0</td>\n",
       "      <td>0.0</td>\n",
       "    </tr>\n",
       "    <tr>\n",
       "      <th>4306</th>\n",
       "      <td>3.401197</td>\n",
       "      <td>4.0</td>\n",
       "      <td>9.0</td>\n",
       "      <td>2.0</td>\n",
       "      <td>13.0</td>\n",
       "      <td>0.0</td>\n",
       "      <td>4.0</td>\n",
       "      <td>1.0</td>\n",
       "      <td>40.0</td>\n",
       "      <td>1</td>\n",
       "      <td>1.0</td>\n",
       "      <td>1.0</td>\n",
       "      <td>1.0</td>\n",
       "      <td>0.0</td>\n",
       "      <td>0.0</td>\n",
       "    </tr>\n",
       "  </tbody>\n",
       "</table>\n",
       "</div>"
      ],
      "text/plain": [
       "            age  workclass  education-num  status  occupation  relationship  \\\n",
       "8268   3.806662        6.0           13.0     2.0         4.0           0.0   \n",
       "28969  4.094345        4.0           10.0     2.0         3.0           0.0   \n",
       "30525  3.891820        5.0           10.0     2.0        10.0           5.0   \n",
       "5792   3.806662        5.0            9.0     2.0         4.0           0.0   \n",
       "4306   3.401197        4.0            9.0     2.0        13.0           0.0   \n",
       "\n",
       "       race  sex  hours-per-week  income-class  capital-gain-zero  \\\n",
       "8268    4.0  1.0            50.0             1                1.0   \n",
       "28969   3.0  1.0            32.0             1                1.0   \n",
       "30525   4.0  0.0            65.0             1                1.0   \n",
       "5792    4.0  1.0            55.0             1                0.0   \n",
       "4306    4.0  1.0            40.0             1                1.0   \n",
       "\n",
       "       capital-loss-zero  is_USA  no_pay_or_work  bachelor_above  \n",
       "8268                 1.0     1.0             0.0             1.0  \n",
       "28969                1.0     1.0             0.0             0.0  \n",
       "30525                1.0     1.0             0.0             0.0  \n",
       "5792                 1.0     1.0             0.0             0.0  \n",
       "4306                 1.0     1.0             0.0             0.0  "
      ]
     },
     "execution_count": 9,
     "metadata": {},
     "output_type": "execute_result"
    }
   ],
   "source": [
    "balanced_train = pd.concat([high_income_upsampled_train, low_income_train])\n",
    "balanced_train.head()"
   ]
  },
  {
   "cell_type": "code",
   "execution_count": 10,
   "metadata": {},
   "outputs": [],
   "source": [
    "# modeling\n",
    "X_train, y_train = balanced_train.drop('income-class', axis=1), balanced_train['income-class']\n",
    "X_test, y_test = test.drop('income-class', axis=1), test['income-class']"
   ]
  },
  {
   "cell_type": "code",
   "execution_count": 39,
   "metadata": {},
   "outputs": [
    {
     "data": {
      "text/html": [
       "<div>\n",
       "<style scoped>\n",
       "    .dataframe tbody tr th:only-of-type {\n",
       "        vertical-align: middle;\n",
       "    }\n",
       "\n",
       "    .dataframe tbody tr th {\n",
       "        vertical-align: top;\n",
       "    }\n",
       "\n",
       "    .dataframe thead th {\n",
       "        text-align: right;\n",
       "    }\n",
       "</style>\n",
       "<table border=\"1\" class=\"dataframe\">\n",
       "  <thead>\n",
       "    <tr style=\"text-align: right;\">\n",
       "      <th></th>\n",
       "      <th>age</th>\n",
       "      <th>workclass</th>\n",
       "      <th>education-num</th>\n",
       "      <th>status</th>\n",
       "      <th>occupation</th>\n",
       "      <th>relationship</th>\n",
       "      <th>race</th>\n",
       "      <th>sex</th>\n",
       "      <th>hours-per-week</th>\n",
       "      <th>capital-gain-zero</th>\n",
       "      <th>capital-loss-zero</th>\n",
       "      <th>is_USA</th>\n",
       "      <th>no_pay_or_work</th>\n",
       "      <th>bachelor_above</th>\n",
       "    </tr>\n",
       "  </thead>\n",
       "  <tbody>\n",
       "    <tr>\n",
       "      <th>0</th>\n",
       "      <td>3.81</td>\n",
       "      <td>6.00</td>\n",
       "      <td>13.00</td>\n",
       "      <td>2.00</td>\n",
       "      <td>4.00</td>\n",
       "      <td>0.00</td>\n",
       "      <td>4.00</td>\n",
       "      <td>1.00</td>\n",
       "      <td>50.00</td>\n",
       "      <td>1.00</td>\n",
       "      <td>1.00</td>\n",
       "      <td>1.00</td>\n",
       "      <td>0.00</td>\n",
       "      <td>1.00</td>\n",
       "    </tr>\n",
       "    <tr>\n",
       "      <th>1</th>\n",
       "      <td>4.09</td>\n",
       "      <td>4.00</td>\n",
       "      <td>10.00</td>\n",
       "      <td>2.00</td>\n",
       "      <td>3.00</td>\n",
       "      <td>0.00</td>\n",
       "      <td>3.00</td>\n",
       "      <td>1.00</td>\n",
       "      <td>32.00</td>\n",
       "      <td>1.00</td>\n",
       "      <td>1.00</td>\n",
       "      <td>1.00</td>\n",
       "      <td>0.00</td>\n",
       "      <td>0.00</td>\n",
       "    </tr>\n",
       "    <tr>\n",
       "      <th>2</th>\n",
       "      <td>3.89</td>\n",
       "      <td>5.00</td>\n",
       "      <td>10.00</td>\n",
       "      <td>2.00</td>\n",
       "      <td>10.00</td>\n",
       "      <td>5.00</td>\n",
       "      <td>4.00</td>\n",
       "      <td>0.00</td>\n",
       "      <td>65.00</td>\n",
       "      <td>1.00</td>\n",
       "      <td>1.00</td>\n",
       "      <td>1.00</td>\n",
       "      <td>0.00</td>\n",
       "      <td>0.00</td>\n",
       "    </tr>\n",
       "    <tr>\n",
       "      <th>3</th>\n",
       "      <td>3.81</td>\n",
       "      <td>5.00</td>\n",
       "      <td>9.00</td>\n",
       "      <td>2.00</td>\n",
       "      <td>4.00</td>\n",
       "      <td>0.00</td>\n",
       "      <td>4.00</td>\n",
       "      <td>1.00</td>\n",
       "      <td>55.00</td>\n",
       "      <td>0.00</td>\n",
       "      <td>1.00</td>\n",
       "      <td>1.00</td>\n",
       "      <td>0.00</td>\n",
       "      <td>0.00</td>\n",
       "    </tr>\n",
       "    <tr>\n",
       "      <th>4</th>\n",
       "      <td>3.40</td>\n",
       "      <td>4.00</td>\n",
       "      <td>9.00</td>\n",
       "      <td>2.00</td>\n",
       "      <td>13.00</td>\n",
       "      <td>0.00</td>\n",
       "      <td>4.00</td>\n",
       "      <td>1.00</td>\n",
       "      <td>40.00</td>\n",
       "      <td>1.00</td>\n",
       "      <td>1.00</td>\n",
       "      <td>1.00</td>\n",
       "      <td>0.00</td>\n",
       "      <td>0.00</td>\n",
       "    </tr>\n",
       "  </tbody>\n",
       "</table>\n",
       "</div>"
      ],
      "text/plain": [
       "   age  workclass  education-num  status  occupation  relationship  race  sex  \\\n",
       "0 3.81       6.00          13.00    2.00        4.00          0.00  4.00 1.00   \n",
       "1 4.09       4.00          10.00    2.00        3.00          0.00  3.00 1.00   \n",
       "2 3.89       5.00          10.00    2.00       10.00          5.00  4.00 0.00   \n",
       "3 3.81       5.00           9.00    2.00        4.00          0.00  4.00 1.00   \n",
       "4 3.40       4.00           9.00    2.00       13.00          0.00  4.00 1.00   \n",
       "\n",
       "   hours-per-week  capital-gain-zero  capital-loss-zero  is_USA  \\\n",
       "0           50.00               1.00               1.00    1.00   \n",
       "1           32.00               1.00               1.00    1.00   \n",
       "2           65.00               1.00               1.00    1.00   \n",
       "3           55.00               0.00               1.00    1.00   \n",
       "4           40.00               1.00               1.00    1.00   \n",
       "\n",
       "   no_pay_or_work  bachelor_above  \n",
       "0            0.00            1.00  \n",
       "1            0.00            0.00  \n",
       "2            0.00            0.00  \n",
       "3            0.00            0.00  \n",
       "4            0.00            0.00  "
      ]
     },
     "execution_count": 39,
     "metadata": {},
     "output_type": "execute_result"
    }
   ],
   "source": [
    "X_train.head()"
   ]
  },
  {
   "cell_type": "markdown",
   "metadata": {},
   "source": [
    "# My Modeling"
   ]
  },
  {
   "cell_type": "markdown",
   "metadata": {},
   "source": [
    "## Logistic Regression"
   ]
  },
  {
   "cell_type": "code",
   "execution_count": 11,
   "metadata": {},
   "outputs": [
    {
     "name": "stderr",
     "output_type": "stream",
     "text": [
      "/Users/yuahoh/anaconda3/lib/python3.7/site-packages/sklearn/linear_model/logistic.py:433: FutureWarning: Default solver will be changed to 'lbfgs' in 0.22. Specify a solver to silence this warning.\n",
      "  FutureWarning)\n"
     ]
    }
   ],
   "source": [
    "clf = LogisticRegression(random_state=123).fit(X_train, y_train)\n",
    "y_pred_train = clf.predict(X_train)\n",
    "y_pred_test = clf.predict(X_test)\n",
    "preds_prob_train = clf.predict_proba(X_train)[:, 1] # prob of class 1 ( >50K)\n",
    "preds_prob_test = clf.predict_proba(X_test)[:, 1] # prob of class 1 ( >50K)"
   ]
  },
  {
   "cell_type": "code",
   "execution_count": 12,
   "metadata": {},
   "outputs": [],
   "source": [
    "def report_pr_curve(y, preds_prob, no_skill_precision):\n",
    "    precision, recall, thresholds = precision_recall_curve(y, preds_prob, pos_label=1)\n",
    "    # draw the curve\n",
    "    plt.title('Precision Recall Curve for Training Data')\n",
    "    plt.plot(precision, recall, 'b')\n",
    "    plt.plot([0, 1], [no_skill_precision, no_skill_precision],'r--')\n",
    "    #plt.xlim([0, 1])\n",
    "    #plt.ylim([0, 1])\n",
    "    plt.xlabel('Recall')\n",
    "    plt.ylabel('Precision')\n",
    "    return precision, recall, thresholds"
   ]
  },
  {
   "cell_type": "code",
   "execution_count": 13,
   "metadata": {},
   "outputs": [
    {
     "data": {
      "image/png": "[encoded data removed]",
      "text/plain": [
       "<Figure size 432x288 with 1 Axes>"
      ]
     },
     "metadata": {
      "needs_background": "light"
     },
     "output_type": "display_data"
    }
   ],
   "source": [
    "# precision recall curve for training data\n",
    "no_skill_precision_train = high_income_train.shape[0] / (high_income_train.shape[0] + low_income_train.shape[0])\n",
    "precision, recall, thresholds = report_pr_curve(y_train, preds_prob_train, no_skill_precision_train)"
   ]
  },
  {
   "cell_type": "code",
   "execution_count": 22,
   "metadata": {},
   "outputs": [],
   "source": [
    "# auc_train = auc(recall, precision)\n",
    "# auc_train"
   ]
  },
  {
   "cell_type": "code",
   "execution_count": 23,
   "metadata": {},
   "outputs": [
    {
     "data": {
      "text/plain": [
       "0.8398011311353581"
      ]
     },
     "execution_count": 23,
     "metadata": {},
     "output_type": "execute_result"
    }
   ],
   "source": [
    "avg_precision_train = average_precision_score(y_train, preds_prob_train)\n",
    "avg_precision_train"
   ]
  },
  {
   "cell_type": "code",
   "execution_count": 15,
   "metadata": {},
   "outputs": [
    {
     "data": {
      "image/png": "[encoded data removed]",
      "text/plain": [
       "<Figure size 432x288 with 1 Axes>"
      ]
     },
     "metadata": {
      "needs_background": "light"
     },
     "output_type": "display_data"
    }
   ],
   "source": [
    "# precision recall curve for test data\n",
    "no_skill_precision_test = y_test[y_test==1].shape[0] / (y_test[y_test==0].shape[0] + y_test[y_test==1].shape[0])\n",
    "precision, recall, thresholds = report_pr_curve(y_test, preds_prob_test, no_skill_precision_test)"
   ]
  },
  {
   "cell_type": "code",
   "execution_count": 16,
   "metadata": {},
   "outputs": [],
   "source": [
    "# auc_test = auc(recall, precision)\n",
    "# auc_test"
   ]
  },
  {
   "cell_type": "code",
   "execution_count": 17,
   "metadata": {},
   "outputs": [
    {
     "data": {
      "text/plain": [
       "0.6296902554996804"
      ]
     },
     "execution_count": 17,
     "metadata": {},
     "output_type": "execute_result"
    }
   ],
   "source": [
    "avg_precision_test = average_precision_score(y_test, preds_prob_test)\n",
    "avg_precision_test"
   ]
  },
  {
   "cell_type": "code",
   "execution_count": 19,
   "metadata": {},
   "outputs": [],
   "source": [
    "# report_train = classification_report(y_train, y_pred_train)\n",
    "# report_test = classification_report(y_test, y_pred_test)\n",
    "# print(report_train, '\\n')\n",
    "# print(report_test)"
   ]
  },
  {
   "cell_type": "code",
   "execution_count": 20,
   "metadata": {},
   "outputs": [],
   "source": [
    "# coef_df = pd.DataFrame({'ft': X_train.columns, 'coef': clf.coef_[0]})\n",
    "# coef_df['abs_coef'] = coef_df['coef'].abs()\n",
    "# coef_df.sort_values(by='abs_coef', ascending=False, inplace=True)\n",
    "# coef_df"
   ]
  },
  {
   "cell_type": "markdown",
   "metadata": {
    "heading_collapsed": true
   },
   "source": [
    "## Decision Tree\n",
    "\n",
    "**NOTE:** Decision tree classifier with default params overfits training data. The overfitting can be identified by:\n",
    "1. ~0.99 auc on training, and ~0.7 auc on test\n",
    "2. extremely large and complex tree\n",
    "\n",
    "Specifying 'min_samples_split': 0.005,'min_samples_leaf': 0.01,'max _features':'auto' reduces overfitting with auc on training drops to ~0.86 and auc on test increases to ~0.85, and the tree is much simpler."
   ]
  },
  {
   "cell_type": "code",
   "execution_count": 24,
   "metadata": {
    "hidden": true
   },
   "outputs": [],
   "source": [
    "tree_params = {'min_samples_split': 0.005, \n",
    "              'min_samples_leaf': 0.01,\n",
    "              'max_features':'auto',\n",
    "               'class_weight': None,\n",
    "              'random_state': 123}\n",
    "\n",
    "clf_tree = DecisionTreeClassifier(**tree_params).fit(X_train, y_train)\n",
    "\n",
    "y_pred_train = clf_tree.predict(X_train)\n",
    "y_pred_test = clf_tree.predict(X_test)\n",
    "preds_prob_train = clf_tree.predict_proba(X_train)[:, 1] # prob of class 1 ( >50K)\n",
    "preds_prob_test = clf_tree.predict_proba(X_test)[:, 1] # prob of class 1 ( >50K)"
   ]
  },
  {
   "cell_type": "code",
   "execution_count": 25,
   "metadata": {
    "hidden": true
   },
   "outputs": [
    {
     "data": {
      "image/png": "[encoded data removed]",
      "text/plain": [
       "<Figure size 432x288 with 1 Axes>"
      ]
     },
     "metadata": {
      "needs_background": "light"
     },
     "output_type": "display_data"
    }
   ],
   "source": [
    "precision, recall, thresholds = report_pr_curve(y_train, preds_prob_train, no_skill_precision_train)"
   ]
  },
  {
   "cell_type": "code",
   "execution_count": 26,
   "metadata": {
    "hidden": true
   },
   "outputs": [],
   "source": [
    "# auc_train = auc(recall, precision)\n",
    "# auc_train"
   ]
  },
  {
   "cell_type": "code",
   "execution_count": 27,
   "metadata": {
    "hidden": true
   },
   "outputs": [
    {
     "data": {
      "text/plain": [
       "0.8512845472093025"
      ]
     },
     "execution_count": 27,
     "metadata": {},
     "output_type": "execute_result"
    }
   ],
   "source": [
    "avg_precision_train = average_precision_score(y_train, preds_prob_train)\n",
    "avg_precision_train"
   ]
  },
  {
   "cell_type": "code",
   "execution_count": 28,
   "metadata": {
    "hidden": true
   },
   "outputs": [
    {
     "data": {
      "image/png": "[encoded data removed]",
      "text/plain": [
       "<Figure size 432x288 with 1 Axes>"
      ]
     },
     "metadata": {
      "needs_background": "light"
     },
     "output_type": "display_data"
    }
   ],
   "source": [
    "precision, recall, thresholds = report_pr_curve(y_test, preds_prob_test, no_skill_precision_test)"
   ]
  },
  {
   "cell_type": "code",
   "execution_count": 29,
   "metadata": {
    "hidden": true
   },
   "outputs": [],
   "source": [
    "# auc_pr_test = auc(recall, precision)\n",
    "# auc_pr_test"
   ]
  },
  {
   "cell_type": "code",
   "execution_count": 30,
   "metadata": {
    "hidden": true
   },
   "outputs": [
    {
     "data": {
      "text/plain": [
       "0.637629882432756"
      ]
     },
     "execution_count": 30,
     "metadata": {},
     "output_type": "execute_result"
    }
   ],
   "source": [
    "avg_precision_test = average_precision_score(y_test, preds_prob_test)\n",
    "avg_precision_test"
   ]
  },
  {
   "cell_type": "code",
   "execution_count": 31,
   "metadata": {
    "hidden": true
   },
   "outputs": [],
   "source": [
    "# report_train = classification_report(y_train, y_pred_train)\n",
    "# report_test = classification_report(y_test, y_pred_test)\n",
    "# print(report_train, '\\n')\n",
    "# print(report_test)"
   ]
  },
  {
   "cell_type": "code",
   "execution_count": 32,
   "metadata": {
    "hidden": true
   },
   "outputs": [],
   "source": [
    "# imp_df = pd.DataFrame({'ft': X_train.columns, 'ft_imp': clf_tree.feature_importances_})\n",
    "# imp_df.sort_values(by='ft_imp', ascending=False, inplace=True)\n",
    "# imp_df"
   ]
  },
  {
   "cell_type": "code",
   "execution_count": 78,
   "metadata": {
    "hidden": true
   },
   "outputs": [],
   "source": [
    "# fn = X_train.columns\n",
    "# cn = ['<=50K', '>50K']\n",
    "# tree.export_graphviz(clf_tree,\n",
    "#                      out_file=\"tree_v2.dot\",\n",
    "#                      feature_names=fn, \n",
    "#                      class_names=cn,\n",
    "#                      filled = True)"
   ]
  },
  {
   "cell_type": "code",
   "execution_count": 33,
   "metadata": {
    "hidden": true
   },
   "outputs": [],
   "source": [
    "# while auc score for precision_recall on test data is low, roc auc score remains high. \n",
    "# It's a good example to show that roc score can be very misleading for imbalanced data.\n",
    "\n",
    "# auc_test = roc_auc_score(y_test, preds_prob_test)\n",
    "# print('auc_roc_test:', auc_test)"
   ]
  },
  {
   "cell_type": "code",
   "execution_count": null,
   "metadata": {
    "hidden": true
   },
   "outputs": [],
   "source": [
    "# draw roc curve\n",
    "# fpr, tpr, thresholds = roc_curve(y_train, preds_prob_train)\n",
    "# auc_train = roc_auc_score(y_train, preds_prob_train)\n",
    "# print('auc_train:', auc_train)\n",
    "\n",
    "# plt.title('Receiver Operating Characteristic')\n",
    "# plt.plot(fpr, tpr, 'b', label = 'AUC = %0.2f' % auc_train)\n",
    "# plt.legend(loc = 'lower right')\n",
    "# plt.plot([0, 1], [0, 1],'r--')\n",
    "# #plt.xlim([0, 1])\n",
    "# #plt.ylim([0, 1])\n",
    "# plt.ylabel('True Positive Rate')\n",
    "# plt.xlabel('False Positive Rate')\n",
    "# plt.show()"
   ]
  },
  {
   "cell_type": "markdown",
   "metadata": {},
   "source": [
    "# AutoML"
   ]
  },
  {
   "cell_type": "code",
   "execution_count": 40,
   "metadata": {},
   "outputs": [],
   "source": [
    "import azureml\n",
    "import azureml.core\n",
    "from azureml.core.workspace import Workspace\n",
    "from azureml.train.automl import AutoMLConfig\n",
    "from azureml.core.experiment import Experiment\n",
    "from azureml.core.model import Model\n",
    "import logging"
   ]
  },
  {
   "cell_type": "code",
   "execution_count": 41,
   "metadata": {},
   "outputs": [
    {
     "name": "stdout",
     "output_type": "stream",
     "text": [
      "autoML experiments will be created in ./demo_automl.\n"
     ]
    }
   ],
   "source": [
    "project_folder = './demo_automl'\n",
    "\n",
    "if not os.path.isdir(project_folder):\n",
    "    os.mkdir(project_folder)\n",
    "\n",
    "print('autoML experiments will be created in {}.'.format(project_folder))"
   ]
  },
  {
   "cell_type": "code",
   "execution_count": 42,
   "metadata": {},
   "outputs": [],
   "source": [
    "# make sure you have the correct subscription id, resource group, and workspace name\n",
    "existing_config = {\n",
    "    \"subscription_id\": \"a8d4385d-c984-403a-af97-763505802834\",\n",
    "    \"resource_group\": \"rgbkmdatapipelinepoc\",\n",
    "    \"name\": \"aml-digital-factory\"}\n",
    "ws = Workspace.get(**existing_config)"
   ]
  },
  {
   "cell_type": "code",
   "execution_count": 67,
   "metadata": {
    "code_folding": []
   },
   "outputs": [],
   "source": [
    "def run_experiments(workspace, exp_name, X_train, y_train, X_valid, y_valid, local_folder):\n",
    "    automl_settings = {\n",
    "        \"iteration_timeout_minutes\": 3, # Maximum time in minutes that each iteration can run for.\n",
    "        \"iterations\": 10,\n",
    "        \"enable_early_stopping\": True,\n",
    "        \"primary_metric\": 'average_precision_score_weighted',\n",
    "        \"featurization\": 'off',\n",
    "        \"verbosity\": logging.INFO\n",
    "    }\n",
    "\n",
    "    # azure automl only supports: pandas df, azure dataset object, azure tabular dataset\n",
    "    # can't directly use pyspark df even with spark context specified with sc (default sc in databricks)\n",
    "    # solution 1: convert pyspark df to pandas df\n",
    "    # solution 2: register databricks DBFS as an azure datastore, and create azure dataset object \n",
    "    # by reading data from the datastore\n",
    "    # path: # to ensure we can retrieve models and related artifacts after experiments are done\n",
    "    automl_config = AutoMLConfig(task='classification', \n",
    "                                 debug_log='automated_ml_errors.log',\n",
    "                                 X=X_train,\n",
    "                                 y=y_train, \n",
    "                                 X_valid=X_valid,\n",
    "                                 y_valid=y_valid,\n",
    "                                 whitelist_models=['DecisionTree', 'GradientBoosting', 'KNN',\n",
    "                                                  'LogisticRegression', 'RandomForest', 'SVM'],\n",
    "                                 path = local_folder,\n",
    "                                 enable_voting_ensemble=False,\n",
    "                                 enable_stack_ensemble=False,\n",
    "                                 **automl_settings)\n",
    "\n",
    "    experiment = Experiment(workspace, exp_name)\n",
    "    local_run = experiment.submit(automl_config, show_output=True)\n",
    "    return experiment, local_run"
   ]
  },
  {
   "cell_type": "code",
   "execution_count": 68,
   "metadata": {},
   "outputs": [
    {
     "name": "stderr",
     "output_type": "stream",
     "text": [
      "WARNING - The AutoMLConfig parameters, X and y, will soon be deprecated. Please refer to our documentation for the latest interface: https://aka.ms/AutoMLConfig\n"
     ]
    },
    {
     "name": "stdout",
     "output_type": "stream",
     "text": [
      "Running on local machine\n",
      "Parent Run ID: AutoML_5f9ef519-80cf-4a02-a6e3-c59291877c43\n",
      "\n",
      "\n",
      "****************************************************************************************************\n",
      "DATA GUARDRAILS: \n",
      "\n",
      "TYPE:         Class balancing detection\n",
      "STATUS:       PASSED\n",
      "DESCRIPTION:  Your inputs were analyzed, and all classes are balanced in your training data.\n",
      "              Learn more about imbalanced data: https://aka.ms/AutomatedMLImbalancedData\n",
      "\n",
      "****************************************************************************************************\n",
      "Current status: ModelSelection. Beginning model selection.\n",
      "\n",
      "****************************************************************************************************\n",
      "ITERATION: The iteration being evaluated.\n",
      "PIPELINE: A summary description of the pipeline being evaluated.\n",
      "DURATION: Time taken for the current iteration.\n",
      "METRIC: The result of computing score on the fitted pipeline.\n",
      "BEST: The best observed score thus far.\n",
      "****************************************************************************************************\n",
      "\n",
      " ITERATION   PIPELINE                                       DURATION      METRIC      BEST\n",
      "         0   MinMaxScaler RandomForest                      0:00:15       0.8829    0.8829\n",
      "         1   MinMaxScaler RandomForest                      0:00:14       0.8663    0.8829\n",
      "         2   MinMaxScaler RandomForest                      0:00:15       0.8561    0.8829\n",
      "         3   TruncatedSVDWrapper LogisticRegression         0:00:20       0.8612    0.8829\n",
      "         4   MaxAbsScaler LogisticRegression                0:00:17       0.8676    0.8829\n",
      "         5   StandardScalerWrapper GradientBoosting         0:00:19       0.9116    0.9116\n",
      "         6   StandardScalerWrapper RandomForest             0:00:29       0.8997    0.9116\n",
      "         7   StandardScalerWrapper RandomForest             0:00:39       0.8975    0.9116\n",
      "         8   TruncatedSVDWrapper GradientBoosting           0:00:14       0.8400    0.9116\n",
      "         9   StandardScalerWrapper RandomForest             0:00:15       0.8825    0.9116\n",
      "****************************************************************************************************\n",
      "Current status: BestRunExplainModel. Best run model explanations started\n",
      "Current status: ModelExplanationDataSetSetup. Model explanations data setup completed\n",
      "Current status: PickSurrogateModel. Choosing LightGBM as the surrogate model for explanations\n",
      "Current status: EngineeredFeatureExplanations. Computation of engineered features started\n",
      "Current status: EngineeredFeatureExplanations. Computation of engineered features completed\n",
      "Current status: BestRunExplainModel. Best run model explanations completed\n",
      "****************************************************************************************************\n"
     ]
    }
   ],
   "source": [
    "# make sure you create a different experiment name or your runs will overwrite others.\n",
    "experiment, local_run = run_experiments(ws, \n",
    "                                        'Chapter_demo_autoML', \n",
    "                                        X_train=X_train, \n",
    "                                        y_train=y_train,\n",
    "                                        X_valid=X_test,\n",
    "                                        y_valid=y_test,\n",
    "                                        local_folder=project_folder)"
   ]
  },
  {
   "cell_type": "code",
   "execution_count": 45,
   "metadata": {},
   "outputs": [],
   "source": [
    "def find_run(exp, parent_run_id, run_preprocessor, run_algo, metric, metric_score):\n",
    "    # get a list of runs that meet the specified requirements:\n",
    "    # 1) under a parent run id\n",
    "    # 2) with a specific data preprocessor\n",
    "    # 3) with a specific algorithm\n",
    "    # 4) with metric above a certain threshold\n",
    "    runs = exp.get_runs()\n",
    "    my_run = []\n",
    "    for run in runs:\n",
    "        parent_run = run\n",
    "        if parent_run.run_id == parent_run_id: \n",
    "            children = list(run.get_children())\n",
    "            for child_run in children:  \n",
    "                properties = child_run.get_properties()\n",
    "                if ((properties['run_preprocessor'] == run_preprocessor) \n",
    "                    & (properties['run_algorithm'] == run_algo) \n",
    "                    & (child_run.get_metrics()[metric] > metric_score)):\n",
    "                    my_run.append(child_run)\n",
    "    return my_run"
   ]
  },
  {
   "cell_type": "code",
   "execution_count": 46,
   "metadata": {},
   "outputs": [],
   "source": [
    "def get_run_model(run, output_file_path):\n",
    "    # get the model associated with a run: an Azure pipeline object that can be used to predict, not a pkl file.\n",
    "    run.download_file('outputs/model.pkl', output_file_path=output_file_path)\n",
    "    print(os.listdir(output_file_path))\n",
    "\n",
    "    local_model_path = os.path.join(output_file_path, 'model.pkl')\n",
    "    # either load it from a local path or from registration path on Azure ml, using get_reg_model_path()\n",
    "    joblib_model = joblib.load(local_model_path) \n",
    "    pp = pprint.PrettyPrinter(indent=4)\n",
    "    pp.pprint(joblib_model.steps)\n",
    "    return joblib_model"
   ]
  },
  {
   "cell_type": "code",
   "execution_count": 49,
   "metadata": {},
   "outputs": [],
   "source": [
    "# retrieving runs that meet our requirements\n",
    "my_runs = find_run(experiment, \n",
    "                   'AutoML_20b4ef18-eb3b-4431-ad35-1021148f3af3', \n",
    "                   'StandardScalerWrapper', \n",
    "                   'GradientBoosting', \n",
    "                   'average_precision_score_weighted', \n",
    "                   0.86)"
   ]
  },
  {
   "cell_type": "code",
   "execution_count": 50,
   "metadata": {},
   "outputs": [
    {
     "data": {
      "text/html": [
       "[Run(Experiment: Chapter_demo_autoML,\n",
       "Id: AutoML_20b4ef18-eb3b-4431-ad35-1021148f3af3_6,\n",
       "Type: None,\n",
       "Status: Completed)]"
      ],
      "text/plain": [
       "[Run(Experiment: Chapter_demo_autoML,\n",
       " Id: AutoML_20b4ef18-eb3b-4431-ad35-1021148f3af3_6,\n",
       " Type: None,\n",
       " Status: Completed)]"
      ]
     },
     "execution_count": 50,
     "metadata": {},
     "output_type": "execute_result"
    }
   ],
   "source": [
    "my_runs"
   ]
  },
  {
   "cell_type": "code",
   "execution_count": 51,
   "metadata": {},
   "outputs": [
    {
     "name": "stdout",
     "output_type": "stream",
     "text": [
      "['model.pkl', '.azureml']\n",
      "[   (   'datatransformer',\n",
      "        DataTransformer(enable_dnn=None, enable_feature_sweeping=None,\n",
      "        feature_sweeping_config=None, feature_sweeping_timeout=None,\n",
      "        featurization_config=None, force_text_dnn=None,\n",
      "        is_cross_validation=None, is_onnx_compatible=None, logger=None,\n",
      "        observer=None, task=None, working_dir=None)),\n",
      "    (   'StandardScalerWrapper',\n",
      "        <azureml.automl.runtime.shared.model_wrappers.StandardScalerWrapper object at 0x7fbc451a2cc0>),\n",
      "    (   'GradientBoostingClassifier',\n",
      "        GradientBoostingClassifier(criterion='friedman_mse', init=None,\n",
      "              learning_rate=0.1, loss='deviance', max_depth=10,\n",
      "              max_features=0.1, max_leaf_nodes=None,\n",
      "              min_impurity_decrease=0.0, min_impurity_split=None,\n",
      "              min_samples_leaf=0.01, min_samples_split=0.10368421052631578,\n",
      "              min_weight_fraction_leaf=0.0, n_estimators=200,\n",
      "              n_iter_no_change=None, presort='auto', random_state=None,\n",
      "              subsample=0.8578947368421053, tol=0.0001,\n",
      "              validation_fraction=0.1, verbose=0, warm_start=False))]\n"
     ]
    }
   ],
   "source": [
    "joblib_model_0 = get_run_model(my_runs[0], project_folder)"
   ]
  },
  {
   "cell_type": "code",
   "execution_count": null,
   "metadata": {},
   "outputs": [],
   "source": [
    "# Now go to your workspace on Microsoft Azure Machine Learning Portal to check on artifacts.\n",
    "# open: ml.azure.com and login using your Braskem credentials."
   ]
  }
 ],
 "metadata": {
  "kernelspec": {
   "display_name": "Python 3",
   "language": "python",
   "name": "python3"
  },
  "language_info": {
   "codemirror_mode": {
    "name": "ipython",
    "version": 3
   },
   "file_extension": ".py",
   "mimetype": "text/x-python",
   "name": "python",
   "nbconvert_exporter": "python",
   "pygments_lexer": "ipython3",
   "version": "3.7.3"
  }
 },
 "nbformat": 4,
 "nbformat_minor": 2
}
